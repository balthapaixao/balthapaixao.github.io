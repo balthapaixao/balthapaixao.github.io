{
 "cells": [
  {
   "cell_type": "code",
   "execution_count": 5,
   "metadata": {},
   "outputs": [],
   "source": [
    "from PIL import Image\n",
    "import requests\n",
    "from io import BytesIO"
   ]
  },
  {
   "cell_type": "code",
   "execution_count": 9,
   "metadata": {},
   "outputs": [],
   "source": [
    "# Example usage\n",
    "image_path = \"./src/assets/images/balthapaixao-logo.png\"\n",
    "\n",
    "\n",
    "def resize_image(image_path, output_path, size):\n",
    "    with Image.open(image_path) as img:\n",
    "        resized_img = img.resize(size)\n",
    "        resized_img.save(output_path)\n",
    "\n",
    "\n",
    "sizes = [\n",
    "    (\"android-icon-36x36.png\", (36, 36)),\n",
    "    (\"android-icon-48x48.png\", (48, 48)),\n",
    "    (\"android-icon-72x72.png\", (72, 72)),\n",
    "    (\"android-icon-96x96.png\", (96, 96)),\n",
    "    (\"android-icon-144x144.png\", (144, 144)),\n",
    "    (\"android-icon-192x192.png\", (192, 192)),\n",
    "    \n",
    "    (\"apple-icon-57x57.png\", (57, 57)),\n",
    "    (\"apple-icon-60x60.png\", (60, 60)),\n",
    "    (\"apple-icon-72x72.png\", (72, 72)),\n",
    "    (\"apple-icon-76x76.png\", (76, 76)),\n",
    "    (\"apple-icon-114x114.png\", (114, 114)),\n",
    "    (\"apple-icon-120x120.png\", (120, 120)),\n",
    "    (\"apple-icon-144x144.png\", (144, 144)),\n",
    "    (\"apple-icon-152x152.png\", (152, 152)),\n",
    "    (\"apple-icon-180x180.png\", (180, 180)),\n",
    "    (\"android-icon-144x144.png\", (144, 144)),\n",
    "    (\"android-icon-192x192.png\", (192, 192)),\n",
    "    (\"favicon-32x32.png\", (32, 32)),\n",
    "    (\"favicon-96x96.png\", (96, 96)),\n",
    "    (\"favicon-16x16.png\", (16, 16)),\n",
    "    (\"ms-icon-70x70.png\", (70, 70)),\n",
    "    (\"ms-icon-144x144.png\", (144, 144)),\n",
    "    (\"ms-icon-150x150.png\", (150, 150)),\n",
    "    (\"ms-icon-310x310.png\", (310, 310)),\n",
    "]"
   ]
  },
  {
   "cell_type": "code",
   "execution_count": 11,
   "metadata": {},
   "outputs": [
    {
     "name": "stdout",
     "output_type": "stream",
     "text": [
      "Image resized and saved at: ./public/android-icon-36x36.png\n",
      "Image resized and saved at: ./public/android-icon-48x48.png\n",
      "Image resized and saved at: ./public/android-icon-72x72.png\n",
      "Image resized and saved at: ./public/android-icon-96x96.png\n",
      "Image resized and saved at: ./public/android-icon-144x144.png\n",
      "Image resized and saved at: ./public/android-icon-192x192.png\n",
      "Image resized and saved at: ./public/apple-icon-57x57.png\n",
      "Image resized and saved at: ./public/apple-icon-60x60.png\n",
      "Image resized and saved at: ./public/apple-icon-72x72.png\n",
      "Image resized and saved at: ./public/apple-icon-76x76.png\n",
      "Image resized and saved at: ./public/apple-icon-114x114.png\n",
      "Image resized and saved at: ./public/apple-icon-120x120.png\n",
      "Image resized and saved at: ./public/apple-icon-144x144.png\n",
      "Image resized and saved at: ./public/apple-icon-152x152.png\n",
      "Image resized and saved at: ./public/apple-icon-180x180.png\n",
      "Image resized and saved at: ./public/android-icon-144x144.png\n",
      "Image resized and saved at: ./public/android-icon-192x192.png\n",
      "Image resized and saved at: ./public/favicon-32x32.png\n",
      "Image resized and saved at: ./public/favicon-96x96.png\n",
      "Image resized and saved at: ./public/favicon-16x16.png\n",
      "Image resized and saved at: ./public/ms-icon-70x70.png\n",
      "Image resized and saved at: ./public/ms-icon-144x144.png\n",
      "Image resized and saved at: ./public/ms-icon-150x150.png\n",
      "Image resized and saved at: ./public/ms-icon-310x310.png\n"
     ]
    }
   ],
   "source": [
    "\n",
    "for name, size in sizes:\n",
    "    output_path = f\"./src/assets/images/{name}\"\n",
    "    output_path = f\"./public/{name}\"\n",
    "    resize_image(image_path=image_path, output_path=output_path, size=size)\n",
    "    print(f\"Image resized and saved at: {output_path}\")"
   ]
  },
  {
   "cell_type": "code",
   "execution_count": null,
   "metadata": {},
   "outputs": [],
   "source": []
  }
 ],
 "metadata": {
  "kernelspec": {
   "display_name": "Python 3",
   "language": "python",
   "name": "python3"
  },
  "language_info": {
   "codemirror_mode": {
    "name": "ipython",
    "version": 3
   },
   "file_extension": ".py",
   "mimetype": "text/x-python",
   "name": "python",
   "nbconvert_exporter": "python",
   "pygments_lexer": "ipython3",
   "version": "3.10.12"
  }
 },
 "nbformat": 4,
 "nbformat_minor": 2
}
